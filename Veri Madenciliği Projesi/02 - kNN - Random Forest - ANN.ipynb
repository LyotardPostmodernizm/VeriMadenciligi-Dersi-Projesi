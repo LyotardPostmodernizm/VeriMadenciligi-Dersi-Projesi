{
 "cells": [
  {
   "cell_type": "code",
   "execution_count": null,
   "id": "33a15f56",
   "metadata": {},
   "outputs": [],
   "source": [
    "import numpy as np\n",
    "import seaborn as sns\n",
    "import pandas as pd\n",
    "from matplotlib import pyplot as plt\n",
    "import seaborn as sns"
   ]
  },
  {
   "cell_type": "code",
   "execution_count": null,
   "id": "10e8871d",
   "metadata": {},
   "outputs": [],
   "source": [
    "data=pd.read_csv(\"data (5).csv\")\n",
    "data.head()\n"
   ]
  },
  {
   "cell_type": "code",
   "execution_count": null,
   "id": "96c7ddc3",
   "metadata": {},
   "outputs": [],
   "source": [
    "data.isnull().sum()"
   ]
  },
  {
   "cell_type": "code",
   "execution_count": null,
   "id": "9d87e81e",
   "metadata": {},
   "outputs": [],
   "source": [
    "data=data.drop([\"id\",\"Unnamed: 32\"],axis=1)\n",
    "data.head()"
   ]
  },
  {
   "cell_type": "code",
   "execution_count": null,
   "id": "5c9e8dce",
   "metadata": {},
   "outputs": [],
   "source": [
    "plt.figure(figsize = (20,20))\n",
    "sns.heatmap(data[data.columns].corr(), annot = True, fmt = \".2f\")\n",
    "plt.show()"
   ]
  },
  {
   "cell_type": "code",
   "execution_count": null,
   "id": "d6859053",
   "metadata": {},
   "outputs": [],
   "source": [
    "data.diagnosis=[1 if i==\"B\" else 0 for i in data.diagnosis]\n",
    "y=data.diagnosis.values\n",
    "x_data=data.drop([\"diagnosis\"],axis=1)\n",
    "#normalization\n",
    "x=(x_data-np.min(x_data))/(np.max(x_data)-np.min(x_data))\n",
    "m=data[data.diagnosis == 0]\n",
    "b=data[data.diagnosis == 1]\n",
    "b.head()"
   ]
  },
  {
   "cell_type": "code",
   "execution_count": null,
   "id": "5a6081ed",
   "metadata": {},
   "outputs": [],
   "source": [
    "colons_name=[\"radius_mean\",\"texture_mean\",\"perimeter_mean\",\"smoothness_mean\",\"compactness_mean\",\"fractal_dimension_worst\",\"symmetry_worst\",\"symmetry_worst\"]\n",
    "for i in colons_name:\n",
    "    for j in colons_name:\n",
    "        plt.figure(figsize = (5,5))\n",
    "        plt.scatter(m[i],m[j],color=\"red\",label=\"kötü huylu\")\n",
    "        plt.scatter(b[i],b[j],color=\"green\",label=\"iyi huylu\")\n",
    "        plt.xlabel(i)\n",
    "        plt.ylabel(j)\n",
    "        plt.show()\n"
   ]
  },
  {
   "cell_type": "code",
   "execution_count": null,
   "id": "a0212430",
   "metadata": {},
   "outputs": [],
   "source": [
    "colons_name=[\"radius_mean\",\"texture_mean\",\"perimeter_mean\",\"smoothness_mean\",\"compactness_mean\",\"fractal_dimension_worst\",\"symmetry_worst\",\"symmetry_worst\"]\n",
    "for i in colons_name:\n",
    "    plt.figure(figsize = (5,5))\n",
    "    data.boxplot(column=i,by = \"diagnosis\")\n",
    "    plt.xlabel(\"diagnosis\")\n",
    "    plt.ylabel(i)\n",
    "    plt.show()"
   ]
  },
  {
   "cell_type": "code",
   "execution_count": null,
   "id": "7122de4b",
   "metadata": {},
   "outputs": [],
   "source": [
    "from sklearn.model_selection import train_test_split\n",
    "from sklearn.neighbors import KNeighborsClassifier\n",
    "\n",
    "x_train, x_test, y_train, y_test=train_test_split(x,y,test_size=0.3,random_state=42)\n",
    "\n",
    "\n",
    "def knn_score_distance(neighbors,distance):\n",
    "    knn=KNeighborsClassifier(n_neighbors=neighbors)\n",
    "    knn.fit(x_train,y_train)\n",
    "    prediciton=knn.predict(x_test)\n",
    "    return float(\"{:.2f}\".format(knn.score(x_test,y_test)*1000))\n",
    "\n",
    "\n",
    "metrics=[\"euclidean\",\"manhattan\",\"chebyshev\",\"minkowski\"]\n",
    "score=[]\n",
    "for i in range(1,4):\n",
    "    for j in metrics:\n",
    "        score.append(knn_score_distance(i,j))\n",
    "        \n",
    "    plt.figure(figsize = (12,9))\n",
    "    plt.barh(metrics, score)\n",
    "    for index, value in enumerate(score):\n",
    "        plt.text(value, index, str(value))\n",
    " \n",
    "    plt.xlabel(\"knn-score-same-n\")\n",
    "    plt.ylabel(\"distance-metric\")\n",
    "    plt.title(\"neighbors:\"+str(i))\n",
    "    plt.show()\n"
   ]
  },
  {
   "cell_type": "code",
   "execution_count": null,
   "id": "6d7942b7",
   "metadata": {},
   "outputs": [],
   "source": [
    "score=[]\n",
    "for i in range(1,12):\n",
    "    score.append(knn_score_distance(i,\"manhattan\"))\n",
    "\n",
    "\n",
    "plt.plot(range(1,12),score)\n",
    "plt.xlabel(\"negihbor-number\")\n",
    "plt.ylabel(\"knn-score\")\n",
    "plt.title(\"manhattan-distance-score-for-every-neighbors-number\")\n",
    "plt.show()"
   ]
  },
  {
   "cell_type": "code",
   "execution_count": null,
   "id": "5c31c299",
   "metadata": {},
   "outputs": [],
   "source": [
    "knn=KNeighborsClassifier(n_neighbors=3)\n",
    "knn.fit(x_train,y_train)\n",
    "prediciton=knn.predict(x_test)\n",
    "true=y_test\n",
    "\n",
    "from sklearn.metrics import confusion_matrix\n",
    "\n",
    "cm=confusion_matrix(true,prediciton)\n",
    "sns.heatmap(cm/np.sum(cm), annot=True, \n",
    "            fmt='.2%', cmap='Blues')\n",
    "plt.show()\n",
    "\n",
    "print(cm)"
   ]
  },
  {
   "cell_type": "code",
   "execution_count": null,
   "id": "23e5f142",
   "metadata": {},
   "outputs": [],
   "source": [
    "#random forest\n",
    "from sklearn.ensemble import RandomForestClassifier\n",
    "\n",
    "def random_forest_score_forest_number(forest_number):\n",
    "    rf=RandomForestClassifier(n_estimators=forest_number,random_state=42)\n",
    "    rf.fit(x_train,y_train)\n",
    "    return rf.score(x_test,y_test)\n",
    "    \n",
    "score=[]\n",
    "for i in range(20,120,10):\n",
    "    score.append(random_forest_score_forest_number(i))\n",
    "    \n",
    "plt.plot(range(20,120,10),score)\n",
    "plt.xlabel(\"tree-number\")\n",
    "plt.ylabel(\"randomforest-score\")\n",
    "plt.title(\"random-forest-score-for every-tree-number\")\n",
    "plt.show()    "
   ]
  },
  {
   "cell_type": "code",
   "execution_count": null,
   "id": "d2ad9f5e",
   "metadata": {},
   "outputs": [],
   "source": [
    "rf=RandomForestClassifier(n_estimators=40,random_state=42)\n",
    "rf.fit(x_train,y_train)\n",
    "prediciton=rf.predict(x_test)\n",
    "true=y_test\n",
    "\n",
    "cm=confusion_matrix(true,prediciton)\n",
    "sns.heatmap(cm/np.sum(cm), annot=True, \n",
    "            fmt='.2%', cmap='Blues')\n",
    "plt.show()\n",
    "\n",
    "print(cm)"
   ]
  },
  {
   "cell_type": "code",
   "execution_count": null,
   "id": "fb19adc3",
   "metadata": {},
   "outputs": [],
   "source": [
    "from keras.wrappers.scikit_learn import KerasClassifier\n",
    "from sklearn.model_selection import cross_val_score\n",
    "from keras.models import Sequential # initialize neural network library\n",
    "from keras.layers import Dense # build our layers library\n",
    "def build_classifier():\n",
    "    classifier = Sequential() # initialize neural network\n",
    "    classifier.add(Dense(units = 8, kernel_initializer = 'uniform', activation = 'relu', input_dim = x_train.shape[1]))\n",
    "    classifier.add(Dense(units = 4, kernel_initializer = 'uniform', activation = 'relu'))\n",
    "    classifier.add(Dense(units = 1, kernel_initializer = 'uniform', activation = 'sigmoid'))\n",
    "    classifier.compile(optimizer = 'adam', loss = 'binary_crossentropy', metrics = ['accuracy'])\n",
    "    return classifier\n",
    "def ann(epoch):\n",
    "    classifier = KerasClassifier(build_fn = build_classifier, epochs = epoch)\n",
    "    accuracies = cross_val_score(estimator = classifier, X = x_train, y = y_train)\n",
    "    return accuracies\n",
    "for i in range(50,350,50):\n",
    "    accuracies=ann(i)\n",
    "    print(\"Accuracy: \"+ str(accuracies))"
   ]
  },
  {
   "cell_type": "code",
   "execution_count": null,
   "id": "ff0e2b97",
   "metadata": {},
   "outputs": [],
   "source": [
    "score=[0.9707,0.9707,0.9875]\n",
    "algorithm=[\"KNN\",\"Random Forest\",\"ANN\"]\n",
    "\n",
    "plt.plot(algorithm,score)\n",
    "plt.xlabel(\"algorithm\")\n",
    "plt.ylabel(\"best-score\")\n",
    "plt.title(\"score-for every-algorithm-with-outliers\")\n",
    "plt.show()"
   ]
  },
  {
   "cell_type": "code",
   "execution_count": null,
   "id": "307c727a",
   "metadata": {},
   "outputs": [],
   "source": [
    "score=[0.9707,0.9597,0.9852]\n",
    "algorithm=[\"KNN\",\"Random Forest\",\"ANN\"]\n",
    "\n",
    "plt.plot(algorithm,score)\n",
    "plt.xlabel(\"algorithm\")\n",
    "plt.ylabel(\"best-score\")\n",
    "plt.title(\"score-for every-algorithm-without-outliers\")\n",
    "plt.show()"
   ]
  }
 ],
 "metadata": {
  "kernelspec": {
   "display_name": "Python 3 (ipykernel)",
   "language": "python",
   "name": "python3"
  },
  "language_info": {
   "codemirror_mode": {
    "name": "ipython",
    "version": 3
   },
   "file_extension": ".py",
   "mimetype": "text/x-python",
   "name": "python",
   "nbconvert_exporter": "python",
   "pygments_lexer": "ipython3",
   "version": "3.8.12"
  }
 },
 "nbformat": 4,
 "nbformat_minor": 5
}
